{
 "cells": [
  {
   "cell_type": "code",
   "execution_count": 2,
   "metadata": {},
   "outputs": [
    {
     "name": "stdout",
     "output_type": "stream",
     "text": [
      "       total_return  annual_return  annual_volatility  sharpe_ratio\n",
      "count  4.028000e+03   4.028000e+03        4028.000000   4028.000000\n",
      "mean   5.320035e+13   3.132594e+05           0.512579      0.492582\n",
      "std    3.366876e+15   1.892907e+07           1.200777      0.690538\n",
      "min   -9.999993e-01  -9.994263e-01           0.009708     -1.807915\n",
      "25%   -5.006616e-02  -2.655065e-02           0.110067      0.020921\n",
      "50%    1.119919e-01   5.718999e-02           0.191751      0.501697\n",
      "75%    3.410773e-01   1.662030e-01           0.406800      0.974562\n",
      "max    2.136832e+17   1.200092e+09          23.227424      2.795442\n",
      "             pair  start_date    end_date  total_return  annual_return  \\\n",
      "3833  00631L-2885  2022-10-14  2024-10-14  1.856210e+01       3.748797   \n",
      "2086    2357-2923  2022-10-14  2024-10-14  1.439343e+04     149.838953   \n",
      "3597   3131-00692  2022-10-14  2024-10-14  4.406246e+07   10109.969043   \n",
      "1233    2327-6919  2022-10-14  2024-10-14  9.074322e-01       0.402587   \n",
      "3989    9939-6605  2022-10-14  2024-10-14  6.254372e-01       0.289820   \n",
      "\n",
      "      annual_volatility  sharpe_ratio  \n",
      "3833           0.622115      2.795442  \n",
      "2086           3.462655      2.642614  \n",
      "3597           6.632291      2.599498  \n",
      "1233           0.134244      2.586876  \n",
      "3989           0.101377      2.561636  \n"
     ]
    }
   ],
   "source": [
    "import pandas as pd\n",
    "\n",
    "# 讀取結果\n",
    "results = pd.read_csv('//Users/mouyasushi/Desktop/pair_trading/output/pairs_trading_results.csv')\n",
    "\n",
    "# 基本分析\n",
    "print(results.describe())\n",
    "\n",
    "# 查看最佳配對\n",
    "print(results.nlargest(5, 'sharpe_ratio'))"
   ]
  },
  {
   "cell_type": "code",
   "execution_count": null,
   "metadata": {},
   "outputs": [],
   "source": []
  }
 ],
 "metadata": {
  "kernelspec": {
   "display_name": "Python 3",
   "language": "python",
   "name": "python3"
  },
  "language_info": {
   "codemirror_mode": {
    "name": "ipython",
    "version": 3
   },
   "file_extension": ".py",
   "mimetype": "text/x-python",
   "name": "python",
   "nbconvert_exporter": "python",
   "pygments_lexer": "ipython3",
   "version": "3.12.6"
  }
 },
 "nbformat": 4,
 "nbformat_minor": 2
}
